{
 "cells": [
  {
   "cell_type": "code",
   "execution_count": 1,
   "id": "16d32740",
   "metadata": {},
   "outputs": [],
   "source": [
    "# Project 1\n",
    "# Author: Kevin Xuan"
   ]
  },
  {
   "cell_type": "code",
   "execution_count": 2,
   "id": "802bb7ff",
   "metadata": {},
   "outputs": [],
   "source": [
    "# import packages\n",
    "import pandas as pd\n",
    "from matplotlib import pyplot as plt\n"
   ]
  },
  {
   "cell_type": "code",
   "execution_count": null,
   "id": "c161d9df",
   "metadata": {},
   "outputs": [],
   "source": [
    "%%bigquery sample_1\n",
    "\n",
    "SELECT * FROM (\n",
    "  SELECT\n",
    "     gender, tripduration / 60 AS minutes\n",
    "  FROM\n",
    "    `bigquery-public-data`.new_york_citibike.citibike_trips\n",
    ")\n",
    "WHERE minutes < 10\n",
    "LIMIT 5;"
   ]
  },
  {
   "cell_type": "code",
   "execution_count": null,
   "id": "6050acc8",
   "metadata": {},
   "outputs": [],
   "source": [
    "# What are the 5 most popular trips that you would call \"commuter trips\"? "
   ]
  },
  {
   "cell_type": "code",
   "execution_count": 5,
   "id": "fca64c2f",
   "metadata": {},
   "outputs": [
    {
     "name": "stderr",
     "output_type": "stream",
     "text": [
      "Query complete after 0.00s: 100%|██████████| 3/3 [00:00<00:00, 1230.72query/s]                        \n",
      "Downloading: 100%|██████████| 10/10 [00:02<00:00,  3.40rows/s]\n"
     ]
    }
   ],
   "source": [
    "%%bigquery commuter_trip\n",
    "\n",
    "SELECT start_station_name, end_station_name, count(trip_id) as num_of_trips\n",
    "FROM \n",
    "`bigquery-public-data`.san_francisco.bikeshare_trips\n",
    "WHERE\n",
    "(duration_sec > 5*60 and duration_sec < 2*60*60 and subscriber_type = 'Subscriber') and \n",
    "((extract(hour from start_date) >= 6 and extract(hour from end_date) <= 10) or\n",
    "(extract(hour from start_date) >= 17 and extract(hour from end_date) <=20)) and\n",
    "(extract(dayofweek from start_date)!= 1  and extract(dayofweek from start_date)!= 7)\n",
    "GROUP BY start_station_name, end_station_name\n",
    "ORDER BY count(trip_id) DESC\n",
    "LIMIT 10;"
   ]
  },
  {
   "cell_type": "code",
   "execution_count": 6,
   "id": "1ea3baeb",
   "metadata": {},
   "outputs": [
    {
     "data": {
      "text/html": [
       "<div>\n",
       "<style scoped>\n",
       "    .dataframe tbody tr th:only-of-type {\n",
       "        vertical-align: middle;\n",
       "    }\n",
       "\n",
       "    .dataframe tbody tr th {\n",
       "        vertical-align: top;\n",
       "    }\n",
       "\n",
       "    .dataframe thead th {\n",
       "        text-align: right;\n",
       "    }\n",
       "</style>\n",
       "<table border=\"1\" class=\"dataframe\">\n",
       "  <thead>\n",
       "    <tr style=\"text-align: right;\">\n",
       "      <th></th>\n",
       "      <th>start_station_name</th>\n",
       "      <th>end_station_name</th>\n",
       "      <th>num_of_trips</th>\n",
       "    </tr>\n",
       "  </thead>\n",
       "  <tbody>\n",
       "    <tr>\n",
       "      <th>0</th>\n",
       "      <td>Harry Bridges Plaza (Ferry Building)</td>\n",
       "      <td>2nd at Townsend</td>\n",
       "      <td>5426</td>\n",
       "    </tr>\n",
       "    <tr>\n",
       "      <th>1</th>\n",
       "      <td>Steuart at Market</td>\n",
       "      <td>2nd at Townsend</td>\n",
       "      <td>4768</td>\n",
       "    </tr>\n",
       "    <tr>\n",
       "      <th>2</th>\n",
       "      <td>San Francisco Caltrain (Townsend at 4th)</td>\n",
       "      <td>Harry Bridges Plaza (Ferry Building)</td>\n",
       "      <td>4573</td>\n",
       "    </tr>\n",
       "    <tr>\n",
       "      <th>3</th>\n",
       "      <td>San Francisco Caltrain (Townsend at 4th)</td>\n",
       "      <td>Temporary Transbay Terminal (Howard at Beale)</td>\n",
       "      <td>4505</td>\n",
       "    </tr>\n",
       "    <tr>\n",
       "      <th>4</th>\n",
       "      <td>San Francisco Caltrain (Townsend at 4th)</td>\n",
       "      <td>Embarcadero at Folsom</td>\n",
       "      <td>4059</td>\n",
       "    </tr>\n",
       "    <tr>\n",
       "      <th>5</th>\n",
       "      <td>San Francisco Caltrain (Townsend at 4th)</td>\n",
       "      <td>Steuart at Market</td>\n",
       "      <td>3786</td>\n",
       "    </tr>\n",
       "    <tr>\n",
       "      <th>6</th>\n",
       "      <td>Harry Bridges Plaza (Ferry Building)</td>\n",
       "      <td>Embarcadero at Sansome</td>\n",
       "      <td>3730</td>\n",
       "    </tr>\n",
       "    <tr>\n",
       "      <th>7</th>\n",
       "      <td>2nd at Townsend</td>\n",
       "      <td>Harry Bridges Plaza (Ferry Building)</td>\n",
       "      <td>3629</td>\n",
       "    </tr>\n",
       "    <tr>\n",
       "      <th>8</th>\n",
       "      <td>Market at 10th</td>\n",
       "      <td>San Francisco Caltrain 2 (330 Townsend)</td>\n",
       "      <td>3551</td>\n",
       "    </tr>\n",
       "    <tr>\n",
       "      <th>9</th>\n",
       "      <td>Steuart at Market</td>\n",
       "      <td>Embarcadero at Sansome</td>\n",
       "      <td>3458</td>\n",
       "    </tr>\n",
       "  </tbody>\n",
       "</table>\n",
       "</div>"
      ],
      "text/plain": [
       "                         start_station_name  \\\n",
       "0      Harry Bridges Plaza (Ferry Building)   \n",
       "1                         Steuart at Market   \n",
       "2  San Francisco Caltrain (Townsend at 4th)   \n",
       "3  San Francisco Caltrain (Townsend at 4th)   \n",
       "4  San Francisco Caltrain (Townsend at 4th)   \n",
       "5  San Francisco Caltrain (Townsend at 4th)   \n",
       "6      Harry Bridges Plaza (Ferry Building)   \n",
       "7                           2nd at Townsend   \n",
       "8                            Market at 10th   \n",
       "9                         Steuart at Market   \n",
       "\n",
       "                                end_station_name  num_of_trips  \n",
       "0                                2nd at Townsend          5426  \n",
       "1                                2nd at Townsend          4768  \n",
       "2           Harry Bridges Plaza (Ferry Building)          4573  \n",
       "3  Temporary Transbay Terminal (Howard at Beale)          4505  \n",
       "4                          Embarcadero at Folsom          4059  \n",
       "5                              Steuart at Market          3786  \n",
       "6                         Embarcadero at Sansome          3730  \n",
       "7           Harry Bridges Plaza (Ferry Building)          3629  \n",
       "8        San Francisco Caltrain 2 (330 Townsend)          3551  \n",
       "9                         Embarcadero at Sansome          3458  "
      ]
     },
     "execution_count": 6,
     "metadata": {},
     "output_type": "execute_result"
    }
   ],
   "source": [
    "commuter_trip.head(10)"
   ]
  },
  {
   "cell_type": "code",
   "execution_count": null,
   "id": "9b369a52",
   "metadata": {},
   "outputs": [],
   "source": [
    "'''\n",
    "The 5 most popular trips that I would call \"commuter trips\" are from\n",
    "1. Harry Bridges Plaza (Ferry Building) to 2nd at Townsend\n",
    "2. Steuart at Market to 2nd at Townsend\n",
    "3. San Francisco Caltrain (Townsend at 4th to Harry Bridges Plaza (Ferry Building)\n",
    "4. San Francisco Caltrain (Townsend at 4th) to Temporary Transbay Terminal (Howard at Beale)\n",
    "5. San Francisco Caltrain (Townsend at 4th) to Embarcadero at Folsom\n",
    "'''"
   ]
  },
  {
   "cell_type": "code",
   "execution_count": null,
   "id": "9593226c",
   "metadata": {},
   "outputs": [],
   "source": []
  },
  {
   "cell_type": "code",
   "execution_count": null,
   "id": "2bf77f78",
   "metadata": {},
   "outputs": [],
   "source": [
    "# What are your recommendations for offers (justify based on your findings)?"
   ]
  },
  {
   "cell_type": "code",
   "execution_count": null,
   "id": "c95cef5f",
   "metadata": {},
   "outputs": [],
   "source": [
    "# 1. Count of trips under duration"
   ]
  },
  {
   "cell_type": "code",
   "execution_count": null,
   "id": "5369c9d5",
   "metadata": {},
   "outputs": [],
   "source": [
    "%%bigquery trips_duration\n",
    "\n",
    "SELECT duration_group, count(trip_id) as trip_count\n",
    "FROM\n",
    "    (select trip_id,\n",
    "    CASE\n",
    "        WHEN duration_sec/60 > 5 and duration_sec/60 <15 then '5 - 15 min'\n",
    "        WHEN duration_sec/60 >=15 and duration_sec/60 <30 then '15 - 30 min'\n",
    "        WHEN duration_sec/60 >=30 and duration_sec/60 <45 then '30 - 45 min'\n",
    "        WHEN duration_sec/60 >= 45 and duration_sec/60 <60 then '45 - 60 min'\n",
    "        ELSE 'greater than 1 hour'\n",
    "    END as duration_group\n",
    "    FROM\n",
    "    `bigquery-public-data`.san_francisco.bikeshare_trips\n",
    "    WHERE \n",
    "    (duration_sec > 5*60 and duration_sec < 2*60*60 and subscriber_type = 'Subscriber') and \n",
    "    ((extract(hour from start_date) >= 6 and extract(hour from end_date) <= 10) or\n",
    "    (extract(hour from start_date) >= 17 and extract(hour from end_date) <=20)) and\n",
    "    (extract(dayofweek from start_date)!= 1  and extract(dayofweek from start_date)!= 7))\n",
    "GROUP BY duration_group;"
   ]
  },
  {
   "cell_type": "code",
   "execution_count": null,
   "id": "66e489dc",
   "metadata": {},
   "outputs": [],
   "source": []
  },
  {
   "cell_type": "code",
   "execution_count": null,
   "id": "6712085f",
   "metadata": {},
   "outputs": [],
   "source": [
    "# From the chart, we can see"
   ]
  }
 ],
 "metadata": {
  "environment": {
   "name": "common-cpu.m68",
   "type": "gcloud",
   "uri": "gcr.io/deeplearning-platform-release/base-cpu:m68"
  },
  "kernelspec": {
   "display_name": "Python 3",
   "language": "python",
   "name": "python3"
  },
  "language_info": {
   "codemirror_mode": {
    "name": "ipython",
    "version": 3
   },
   "file_extension": ".py",
   "mimetype": "text/x-python",
   "name": "python",
   "nbconvert_exporter": "python",
   "pygments_lexer": "ipython3",
   "version": "3.7.10"
  }
 },
 "nbformat": 4,
 "nbformat_minor": 5
}
