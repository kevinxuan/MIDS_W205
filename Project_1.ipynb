{
 "cells": [
  {
   "cell_type": "code",
   "execution_count": 1,
   "id": "09051246",
   "metadata": {},
   "outputs": [],
   "source": [
    "# Project 1\n",
    "# Author: Kevin Xuan"
   ]
  },
  {
   "cell_type": "code",
   "execution_count": 2,
   "id": "f27d76af",
   "metadata": {},
   "outputs": [],
   "source": [
    "# import packages\n",
    "import pandas as pd\n",
    "from matplotlib import pyplot as plt\n",
    "import seaborn as sns"
   ]
  },
  {
   "cell_type": "code",
   "execution_count": 3,
   "id": "67511090",
   "metadata": {},
   "outputs": [],
   "source": [
    "# What are the 5 most popular trips that you would call \"commuter trips\"? "
   ]
  },
  {
   "cell_type": "code",
   "execution_count": 4,
   "id": "3826d9fb",
   "metadata": {},
   "outputs": [
    {
     "name": "stderr",
     "output_type": "stream",
     "text": [
      "Query complete after 0.01s: 100%|██████████| 1/1 [00:00<00:00, 1136.67query/s]\n",
      "Downloading: 100%|██████████| 10/10 [00:02<00:00,  3.44rows/s]\n"
     ]
    }
   ],
   "source": [
    "%%bigquery commuter_trip\n",
    "\n",
    "SELECT start_station_name, end_station_name, count(trip_id) as num_of_trips\n",
    "FROM \n",
    "`bigquery-public-data`.san_francisco.bikeshare_trips\n",
    "WHERE\n",
    "(duration_sec > 5*60 and duration_sec < 2*60*60 and subscriber_type = 'Subscriber') and \n",
    "((extract(hour from start_date) >= 6 and extract(hour from end_date) <= 10) or\n",
    "(extract(hour from start_date) >= 17 and extract(hour from end_date) <=20)) and\n",
    "(extract(dayofweek from start_date)!= 1  and extract(dayofweek from start_date)!= 7)\n",
    "GROUP BY start_station_name, end_station_name\n",
    "ORDER BY count(trip_id) DESC\n",
    "LIMIT 10;"
   ]
  },
  {
   "cell_type": "code",
   "execution_count": 5,
   "id": "3b438af7",
   "metadata": {},
   "outputs": [
    {
     "data": {
      "text/html": [
       "<div>\n",
       "<style scoped>\n",
       "    .dataframe tbody tr th:only-of-type {\n",
       "        vertical-align: middle;\n",
       "    }\n",
       "\n",
       "    .dataframe tbody tr th {\n",
       "        vertical-align: top;\n",
       "    }\n",
       "\n",
       "    .dataframe thead th {\n",
       "        text-align: right;\n",
       "    }\n",
       "</style>\n",
       "<table border=\"1\" class=\"dataframe\">\n",
       "  <thead>\n",
       "    <tr style=\"text-align: right;\">\n",
       "      <th></th>\n",
       "      <th>start_station_name</th>\n",
       "      <th>end_station_name</th>\n",
       "      <th>num_of_trips</th>\n",
       "    </tr>\n",
       "  </thead>\n",
       "  <tbody>\n",
       "    <tr>\n",
       "      <th>0</th>\n",
       "      <td>Harry Bridges Plaza (Ferry Building)</td>\n",
       "      <td>2nd at Townsend</td>\n",
       "      <td>5426</td>\n",
       "    </tr>\n",
       "    <tr>\n",
       "      <th>1</th>\n",
       "      <td>Steuart at Market</td>\n",
       "      <td>2nd at Townsend</td>\n",
       "      <td>4768</td>\n",
       "    </tr>\n",
       "    <tr>\n",
       "      <th>2</th>\n",
       "      <td>San Francisco Caltrain (Townsend at 4th)</td>\n",
       "      <td>Harry Bridges Plaza (Ferry Building)</td>\n",
       "      <td>4573</td>\n",
       "    </tr>\n",
       "    <tr>\n",
       "      <th>3</th>\n",
       "      <td>San Francisco Caltrain (Townsend at 4th)</td>\n",
       "      <td>Temporary Transbay Terminal (Howard at Beale)</td>\n",
       "      <td>4505</td>\n",
       "    </tr>\n",
       "    <tr>\n",
       "      <th>4</th>\n",
       "      <td>San Francisco Caltrain (Townsend at 4th)</td>\n",
       "      <td>Embarcadero at Folsom</td>\n",
       "      <td>4059</td>\n",
       "    </tr>\n",
       "    <tr>\n",
       "      <th>5</th>\n",
       "      <td>San Francisco Caltrain (Townsend at 4th)</td>\n",
       "      <td>Steuart at Market</td>\n",
       "      <td>3786</td>\n",
       "    </tr>\n",
       "    <tr>\n",
       "      <th>6</th>\n",
       "      <td>Harry Bridges Plaza (Ferry Building)</td>\n",
       "      <td>Embarcadero at Sansome</td>\n",
       "      <td>3730</td>\n",
       "    </tr>\n",
       "    <tr>\n",
       "      <th>7</th>\n",
       "      <td>2nd at Townsend</td>\n",
       "      <td>Harry Bridges Plaza (Ferry Building)</td>\n",
       "      <td>3629</td>\n",
       "    </tr>\n",
       "    <tr>\n",
       "      <th>8</th>\n",
       "      <td>Market at 10th</td>\n",
       "      <td>San Francisco Caltrain 2 (330 Townsend)</td>\n",
       "      <td>3551</td>\n",
       "    </tr>\n",
       "    <tr>\n",
       "      <th>9</th>\n",
       "      <td>Steuart at Market</td>\n",
       "      <td>Embarcadero at Sansome</td>\n",
       "      <td>3458</td>\n",
       "    </tr>\n",
       "  </tbody>\n",
       "</table>\n",
       "</div>"
      ],
      "text/plain": [
       "                         start_station_name  \\\n",
       "0      Harry Bridges Plaza (Ferry Building)   \n",
       "1                         Steuart at Market   \n",
       "2  San Francisco Caltrain (Townsend at 4th)   \n",
       "3  San Francisco Caltrain (Townsend at 4th)   \n",
       "4  San Francisco Caltrain (Townsend at 4th)   \n",
       "5  San Francisco Caltrain (Townsend at 4th)   \n",
       "6      Harry Bridges Plaza (Ferry Building)   \n",
       "7                           2nd at Townsend   \n",
       "8                            Market at 10th   \n",
       "9                         Steuart at Market   \n",
       "\n",
       "                                end_station_name  num_of_trips  \n",
       "0                                2nd at Townsend          5426  \n",
       "1                                2nd at Townsend          4768  \n",
       "2           Harry Bridges Plaza (Ferry Building)          4573  \n",
       "3  Temporary Transbay Terminal (Howard at Beale)          4505  \n",
       "4                          Embarcadero at Folsom          4059  \n",
       "5                              Steuart at Market          3786  \n",
       "6                         Embarcadero at Sansome          3730  \n",
       "7           Harry Bridges Plaza (Ferry Building)          3629  \n",
       "8        San Francisco Caltrain 2 (330 Townsend)          3551  \n",
       "9                         Embarcadero at Sansome          3458  "
      ]
     },
     "execution_count": 5,
     "metadata": {},
     "output_type": "execute_result"
    }
   ],
   "source": [
    "commuter_trip.head(10)"
   ]
  },
  {
   "cell_type": "code",
   "execution_count": 6,
   "id": "4b464b18",
   "metadata": {},
   "outputs": [
    {
     "data": {
      "text/plain": [
       "'\\nThe 5 most popular trips that I would call \"commuter trips\" are from\\n1. Harry Bridges Plaza (Ferry Building) to 2nd at Townsend\\n2. Steuart at Market to 2nd at Townsend\\n3. San Francisco Caltrain (Townsend at 4th to Harry Bridges Plaza (Ferry Building)\\n4. San Francisco Caltrain (Townsend at 4th) to Temporary Transbay Terminal (Howard at Beale)\\n5. San Francisco Caltrain (Townsend at 4th) to Embarcadero at Folsom\\n'"
      ]
     },
     "execution_count": 6,
     "metadata": {},
     "output_type": "execute_result"
    }
   ],
   "source": [
    "'''\n",
    "The 5 most popular trips that I would call \"commuter trips\" are from\n",
    "1. Harry Bridges Plaza (Ferry Building) to 2nd at Townsend\n",
    "2. Steuart at Market to 2nd at Townsend\n",
    "3. San Francisco Caltrain (Townsend at 4th to Harry Bridges Plaza (Ferry Building)\n",
    "4. San Francisco Caltrain (Townsend at 4th) to Temporary Transbay Terminal (Howard at Beale)\n",
    "5. San Francisco Caltrain (Townsend at 4th) to Embarcadero at Folsom\n",
    "'''"
   ]
  },
  {
   "cell_type": "code",
   "execution_count": 7,
   "id": "fed0a12c",
   "metadata": {},
   "outputs": [],
   "source": [
    "# What are your recommendations for offers (justify based on your findings)?"
   ]
  },
  {
   "cell_type": "code",
   "execution_count": 8,
   "id": "9ab77bbf",
   "metadata": {},
   "outputs": [],
   "source": [
    "# 1. Count of trips under duration"
   ]
  },
  {
   "cell_type": "code",
   "execution_count": 9,
   "id": "892bbf7d",
   "metadata": {},
   "outputs": [
    {
     "name": "stderr",
     "output_type": "stream",
     "text": [
      "Query complete after 0.00s: 100%|██████████| 1/1 [00:00<00:00, 487.14query/s] \n",
      "Downloading: 100%|██████████| 5/5 [00:02<00:00,  1.77rows/s]\n"
     ]
    }
   ],
   "source": [
    "%%bigquery trips_duration\n",
    "\n",
    "SELECT duration_group, count(trip_id) as trip_count\n",
    "FROM\n",
    "    (select trip_id,\n",
    "    CASE\n",
    "        WHEN duration_sec/60 > 5 and duration_sec/60 <15 then '5 - 15 min'\n",
    "        WHEN duration_sec/60 >=15 and duration_sec/60 <30 then '15 - 30 min'\n",
    "        WHEN duration_sec/60 >=30 and duration_sec/60 <45 then '30 - 45 min'\n",
    "        WHEN duration_sec/60 >= 45 and duration_sec/60 <60 then '45 - 60 min'\n",
    "        ELSE '> 1 hr'\n",
    "    END as duration_group\n",
    "    FROM\n",
    "    `bigquery-public-data`.san_francisco.bikeshare_trips\n",
    "    WHERE \n",
    "    (duration_sec > 5*60 and duration_sec < 2*60*60 and subscriber_type = 'Subscriber') and \n",
    "    ((extract(hour from start_date) >= 6 and extract(hour from end_date) <= 10) or\n",
    "    (extract(hour from start_date) >= 17 and extract(hour from end_date) <=20)) and\n",
    "    (extract(dayofweek from start_date)!= 1  and extract(dayofweek from start_date)!= 7))\n",
    "GROUP BY duration_group\n",
    "ORDER by trip_count DESC;"
   ]
  },
  {
   "cell_type": "code",
   "execution_count": 10,
   "id": "c98f74f9",
   "metadata": {},
   "outputs": [
    {
     "data": {
      "text/html": [
       "<div>\n",
       "<style scoped>\n",
       "    .dataframe tbody tr th:only-of-type {\n",
       "        vertical-align: middle;\n",
       "    }\n",
       "\n",
       "    .dataframe tbody tr th {\n",
       "        vertical-align: top;\n",
       "    }\n",
       "\n",
       "    .dataframe thead th {\n",
       "        text-align: right;\n",
       "    }\n",
       "</style>\n",
       "<table border=\"1\" class=\"dataframe\">\n",
       "  <thead>\n",
       "    <tr style=\"text-align: right;\">\n",
       "      <th></th>\n",
       "      <th>duration_group</th>\n",
       "      <th>trip_count</th>\n",
       "    </tr>\n",
       "  </thead>\n",
       "  <tbody>\n",
       "    <tr>\n",
       "      <th>0</th>\n",
       "      <td>5 - 15 min</td>\n",
       "      <td>401243</td>\n",
       "    </tr>\n",
       "    <tr>\n",
       "      <th>1</th>\n",
       "      <td>15 - 30 min</td>\n",
       "      <td>41834</td>\n",
       "    </tr>\n",
       "    <tr>\n",
       "      <th>2</th>\n",
       "      <td>30 - 45 min</td>\n",
       "      <td>997</td>\n",
       "    </tr>\n",
       "    <tr>\n",
       "      <th>3</th>\n",
       "      <td>&gt; 1 hr</td>\n",
       "      <td>389</td>\n",
       "    </tr>\n",
       "    <tr>\n",
       "      <th>4</th>\n",
       "      <td>45 - 60 min</td>\n",
       "      <td>267</td>\n",
       "    </tr>\n",
       "  </tbody>\n",
       "</table>\n",
       "</div>"
      ],
      "text/plain": [
       "  duration_group  trip_count\n",
       "0     5 - 15 min      401243\n",
       "1    15 - 30 min       41834\n",
       "2    30 - 45 min         997\n",
       "3         > 1 hr         389\n",
       "4    45 - 60 min         267"
      ]
     },
     "execution_count": 10,
     "metadata": {},
     "output_type": "execute_result"
    }
   ],
   "source": [
    "trips_duration"
   ]
  },
  {
   "cell_type": "code",
   "execution_count": 11,
   "id": "907f7806",
   "metadata": {},
   "outputs": [
    {
     "data": {
      "text/plain": [
       "<BarContainer object of 5 artists>"
      ]
     },
     "execution_count": 11,
     "metadata": {},
     "output_type": "execute_result"
    },
    {
     "data": {
      "image/png": "[encoded data removed]",
      "text/plain": [
       "<Figure size 640x480 with 1 Axes>"
      ]
     },
     "metadata": {},
     "output_type": "display_data"
    }
   ],
   "source": [
    "plt.bar(trips_duration.duration_group,trips_duration.trip_count)"
   ]
  },
  {
   "cell_type": "code",
   "execution_count": 12,
   "id": "774e468c",
   "metadata": {},
   "outputs": [
    {
     "data": {
      "text/plain": [
       "'\\nFrom the chart and the table, we can see that most commute trips are in the duration of 5-15 minutes. \\nDuring these three years, we see that only approximately 1200 trips out of the 450,000 trips are\\nmore than 30 minutes, and that 90% of the trips are in the range from 5 - 15 minutes, so the company \\nshould enforce the monthly and annually membership (30 minutes of ride). \\nThe \"Bike Share for All\" membership (45 minutes of ride) is not going to be useful for commuters, as most of their trips \\ngoing to be are within 30 minutes. Hence, it\\'s better to remove \"Bike Share for All\" offer. \\n'"
      ]
     },
     "execution_count": 12,
     "metadata": {},
     "output_type": "execute_result"
    }
   ],
   "source": [
    "'''\n",
    "From the chart and the table, we can see that most commute trips are in the duration of 5-15 minutes. \n",
    "During these three years, we see that only approximately 1200 trips out of the 450,000 trips are\n",
    "more than 30 minutes, and that 90% of the trips are in the range from 5 - 15 minutes, so the company \n",
    "should enforce the monthly and annually membership (30 minutes of ride). \n",
    "The \"Bike Share for All\" membership (45 minutes of ride) is not going to be useful for commuters, as most of their trips \n",
    "going to be are within 30 minutes. Hence, it's better to remove \"Bike Share for All\" offer. \n",
    "'''"
   ]
  },
  {
   "cell_type": "code",
   "execution_count": 13,
   "id": "5758b678",
   "metadata": {},
   "outputs": [],
   "source": [
    "# 2. For commute rides, which days of week has the most number of rides?"
   ]
  },
  {
   "cell_type": "code",
   "execution_count": 14,
   "id": "f9420e8f",
   "metadata": {},
   "outputs": [
    {
     "name": "stderr",
     "output_type": "stream",
     "text": [
      "Query complete after 0.00s: 100%|██████████| 1/1 [00:00<00:00, 992.03query/s] \n",
      "Downloading: 100%|██████████| 7/7 [00:02<00:00,  2.34rows/s]\n"
     ]
    }
   ],
   "source": [
    "%%bigquery day_of_week\n",
    "\n",
    "SELECT dayofweek, count_of_trips \n",
    "  FROM (SELECT extract(dayofweek from start_date) as dayofweek, count(trip_id) as count_of_trips\n",
    "  FROM `bigquery-public-data`.san_francisco.bikeshare_trips\n",
    "  WHERE\n",
    "  duration_sec > 5*60 and duration_sec < 2*60*60 and subscriber_type = 'Subscriber' and \n",
    "((extract(hour from start_date) >= 6 and extract(hour from end_date) <= 10) or\n",
    "(extract(hour from start_date) >= 17 and extract(hour from end_date) <=20)) and\n",
    "  extract(day from start_date) = extract(day from end_date) and\n",
    "  extract(month from start_date) = extract(month from end_date) and\n",
    "  extract(year from start_date) = extract(year from end_date)\n",
    "  GROUP BY extract(dayofweek from start_date)) as d\n",
    "  ORDER BY count_of_trips DESC;"
   ]
  },
  {
   "cell_type": "code",
   "execution_count": 15,
   "id": "444caffb",
   "metadata": {},
   "outputs": [],
   "source": [
    "# transform dayofweek to Day\n",
    "num_to_weekday = {1:'Sunday',2:'Monday',3:'Tuesday',4:'Wednesday',5:'Thursday',6:'Friday',7:'Saturday'}\n",
    "dayofweek_t = [num_to_weekday[i] for i in day_of_week.dayofweek]\n",
    "day_of_week['dayofweek'] = pd.Series(dayofweek_t)"
   ]
  },
  {
   "cell_type": "code",
   "execution_count": 16,
   "id": "17a93d2e",
   "metadata": {},
   "outputs": [
    {
     "data": {
      "text/html": [
       "<div>\n",
       "<style scoped>\n",
       "    .dataframe tbody tr th:only-of-type {\n",
       "        vertical-align: middle;\n",
       "    }\n",
       "\n",
       "    .dataframe tbody tr th {\n",
       "        vertical-align: top;\n",
       "    }\n",
       "\n",
       "    .dataframe thead th {\n",
       "        text-align: right;\n",
       "    }\n",
       "</style>\n",
       "<table border=\"1\" class=\"dataframe\">\n",
       "  <thead>\n",
       "    <tr style=\"text-align: right;\">\n",
       "      <th></th>\n",
       "      <th>dayofweek</th>\n",
       "      <th>count_of_trips</th>\n",
       "    </tr>\n",
       "  </thead>\n",
       "  <tbody>\n",
       "    <tr>\n",
       "      <th>0</th>\n",
       "      <td>Tuesday</td>\n",
       "      <td>97084</td>\n",
       "    </tr>\n",
       "    <tr>\n",
       "      <th>1</th>\n",
       "      <td>Wednesday</td>\n",
       "      <td>94013</td>\n",
       "    </tr>\n",
       "    <tr>\n",
       "      <th>2</th>\n",
       "      <td>Monday</td>\n",
       "      <td>89517</td>\n",
       "    </tr>\n",
       "    <tr>\n",
       "      <th>3</th>\n",
       "      <td>Thursday</td>\n",
       "      <td>89468</td>\n",
       "    </tr>\n",
       "    <tr>\n",
       "      <th>4</th>\n",
       "      <td>Friday</td>\n",
       "      <td>74352</td>\n",
       "    </tr>\n",
       "    <tr>\n",
       "      <th>5</th>\n",
       "      <td>Saturday</td>\n",
       "      <td>9745</td>\n",
       "    </tr>\n",
       "    <tr>\n",
       "      <th>6</th>\n",
       "      <td>Sunday</td>\n",
       "      <td>7691</td>\n",
       "    </tr>\n",
       "  </tbody>\n",
       "</table>\n",
       "</div>"
      ],
      "text/plain": [
       "   dayofweek  count_of_trips\n",
       "0    Tuesday           97084\n",
       "1  Wednesday           94013\n",
       "2     Monday           89517\n",
       "3   Thursday           89468\n",
       "4     Friday           74352\n",
       "5   Saturday            9745\n",
       "6     Sunday            7691"
      ]
     },
     "execution_count": 16,
     "metadata": {},
     "output_type": "execute_result"
    }
   ],
   "source": [
    "day_of_week"
   ]
  },
  {
   "cell_type": "code",
   "execution_count": 17,
   "id": "96110ca0",
   "metadata": {},
   "outputs": [
    {
     "data": {
      "text/plain": [
       "<BarContainer object of 7 artists>"
      ]
     },
     "execution_count": 17,
     "metadata": {},
     "output_type": "execute_result"
    },
    {
     "data": {
      "image/png": "[encoded data removed]",
      "text/plain": [
       "<Figure size 800x300 with 1 Axes>"
      ]
     },
     "metadata": {},
     "output_type": "display_data"
    }
   ],
   "source": [
    "plt.figure(figsize=(8,3))\n",
    "plt.bar(day_of_week.dayofweek,day_of_week.count_of_trips)"
   ]
  },
  {
   "cell_type": "code",
   "execution_count": 18,
   "id": "d93c5ff7",
   "metadata": {},
   "outputs": [
    {
     "data": {
      "text/plain": [
       "'\\nFrom the table, we can see that out of all commute rides, Tuesday is the day of week which has \\nthe most number of rides. Number of rides on week days are greater than 155,900 per day, \\nwhile number of rides for weekends are below 20,000 per day. From this, we can see that most\\ncustomers use bike as their transportation to commute to work.\\n'"
      ]
     },
     "execution_count": 18,
     "metadata": {},
     "output_type": "execute_result"
    }
   ],
   "source": [
    "'''\n",
    "From the table, we can see that out of all commute rides, Tuesday is the day of week which has \n",
    "the most number of rides. Number of rides on week days are greater than 155,900 per day, \n",
    "while number of rides for weekends are below 20,000 per day. From this, we can see that most\n",
    "customers use bike as their transportation to commute to work.\n",
    "'''"
   ]
  },
  {
   "cell_type": "code",
   "execution_count": 19,
   "id": "a96ea447",
   "metadata": {},
   "outputs": [],
   "source": [
    "# 3. For one time customers, which days of week has the most number of rides and what's the\n",
    "#    average number of minutes on each day?"
   ]
  },
  {
   "cell_type": "code",
   "execution_count": 20,
   "id": "d8487939",
   "metadata": {},
   "outputs": [
    {
     "name": "stderr",
     "output_type": "stream",
     "text": [
      "Query complete after 0.00s: 100%|██████████| 1/1 [00:00<00:00, 624.15query/s] \n",
      "Downloading: 100%|██████████| 7/7 [00:02<00:00,  2.58rows/s]\n"
     ]
    }
   ],
   "source": [
    "%%bigquery customer_day_of_week\n",
    "\n",
    "SELECT dayofweek, count_of_trips, round(duration_min,2) as ride_minutes\n",
    "  FROM (SELECT extract(dayofweek from start_date) as dayofweek, count(trip_id) as count_of_trips,\n",
    "        avg(duration_sec/60) as duration_min \n",
    "        FROM `bigquery-public-data`.san_francisco.bikeshare_trips\n",
    "  WHERE\n",
    "  duration_sec > 5*60 and duration_sec < 8*60*60 and subscriber_type = 'Customer' and\n",
    "  extract(day from start_date) = extract(day from end_date) and\n",
    "  extract(month from start_date) = extract(month from end_date) and\n",
    "  extract(year from start_date) = extract(year from end_date)\n",
    "  GROUP BY extract(dayofweek from start_date))\n",
    "  ORDER BY count_of_trips DESC;"
   ]
  },
  {
   "cell_type": "code",
   "execution_count": 21,
   "id": "86a27cab",
   "metadata": {},
   "outputs": [],
   "source": [
    "customer_dayofweek_t = [num_to_weekday[i] for i in customer_day_of_week.dayofweek]\n",
    "customer_day_of_week['dayofweek'] = pd.Series(customer_dayofweek_t)"
   ]
  },
  {
   "cell_type": "code",
   "execution_count": 22,
   "id": "49c07d9f",
   "metadata": {},
   "outputs": [
    {
     "data": {
      "text/html": [
       "<div>\n",
       "<style scoped>\n",
       "    .dataframe tbody tr th:only-of-type {\n",
       "        vertical-align: middle;\n",
       "    }\n",
       "\n",
       "    .dataframe tbody tr th {\n",
       "        vertical-align: top;\n",
       "    }\n",
       "\n",
       "    .dataframe thead th {\n",
       "        text-align: right;\n",
       "    }\n",
       "</style>\n",
       "<table border=\"1\" class=\"dataframe\">\n",
       "  <thead>\n",
       "    <tr style=\"text-align: right;\">\n",
       "      <th></th>\n",
       "      <th>dayofweek</th>\n",
       "      <th>count_of_trips</th>\n",
       "      <th>ride_minutes</th>\n",
       "    </tr>\n",
       "  </thead>\n",
       "  <tbody>\n",
       "    <tr>\n",
       "      <th>0</th>\n",
       "      <td>Saturday</td>\n",
       "      <td>27741</td>\n",
       "      <td>50.61</td>\n",
       "    </tr>\n",
       "    <tr>\n",
       "      <th>1</th>\n",
       "      <td>Sunday</td>\n",
       "      <td>24704</td>\n",
       "      <td>52.32</td>\n",
       "    </tr>\n",
       "    <tr>\n",
       "      <th>2</th>\n",
       "      <td>Friday</td>\n",
       "      <td>18696</td>\n",
       "      <td>43.78</td>\n",
       "    </tr>\n",
       "    <tr>\n",
       "      <th>3</th>\n",
       "      <td>Thursday</td>\n",
       "      <td>15602</td>\n",
       "      <td>40.29</td>\n",
       "    </tr>\n",
       "    <tr>\n",
       "      <th>4</th>\n",
       "      <td>Monday</td>\n",
       "      <td>14281</td>\n",
       "      <td>43.15</td>\n",
       "    </tr>\n",
       "    <tr>\n",
       "      <th>5</th>\n",
       "      <td>Wednesday</td>\n",
       "      <td>14280</td>\n",
       "      <td>39.94</td>\n",
       "    </tr>\n",
       "    <tr>\n",
       "      <th>6</th>\n",
       "      <td>Tuesday</td>\n",
       "      <td>13841</td>\n",
       "      <td>39.95</td>\n",
       "    </tr>\n",
       "  </tbody>\n",
       "</table>\n",
       "</div>"
      ],
      "text/plain": [
       "   dayofweek  count_of_trips  ride_minutes\n",
       "0   Saturday           27741         50.61\n",
       "1     Sunday           24704         52.32\n",
       "2     Friday           18696         43.78\n",
       "3   Thursday           15602         40.29\n",
       "4     Monday           14281         43.15\n",
       "5  Wednesday           14280         39.94\n",
       "6    Tuesday           13841         39.95"
      ]
     },
     "execution_count": 22,
     "metadata": {},
     "output_type": "execute_result"
    }
   ],
   "source": [
    "customer_day_of_week"
   ]
  },
  {
   "cell_type": "code",
   "execution_count": 23,
   "id": "9fc64a68",
   "metadata": {},
   "outputs": [
    {
     "data": {
      "text/plain": [
       "'\\nFrom the table above, we see that most one time customers use and rent bikes longer \\non weekends and those on weekdays, with an average of approximately 51 minutes on \\nSaturday and 52 minutes on Sunday. We can see that trips about one time customers\\nare very different from those of subscribers, and therefore we should provide\\ndifferent offers to customers and subscribers.\\n'"
      ]
     },
     "execution_count": 23,
     "metadata": {},
     "output_type": "execute_result"
    }
   ],
   "source": [
    "'''\n",
    "From the table above, we see that most one time customers use and rent bikes longer \n",
    "on weekends and those on weekdays, with an average of approximately 51 minutes on \n",
    "Saturday and 52 minutes on Sunday. We can see that trips about one time customers\n",
    "are very different from those of subscribers, and therefore we should provide\n",
    "different offers to customers and subscribers.\n",
    "'''"
   ]
  },
  {
   "cell_type": "code",
   "execution_count": null,
   "id": "97cf2757",
   "metadata": {},
   "outputs": [],
   "source": []
  },
  {
   "cell_type": "code",
   "execution_count": 24,
   "id": "2869ad62",
   "metadata": {},
   "outputs": [
    {
     "data": {
      "text/plain": [
       "\"Recommendation\\nThe dataset is valuable, as it records almost one million of bike trips over three years,\\nproviding us patterns on how customers and subscribers use the bikes and eventually allowing\\nus to find the right offer which benefits both the customers and the company. However, we\\nsee that the data lacks one really essential column: rider ID. Without this column, we are\\nnot able to track an individual's daily pattern，and as a result we are not able to provide\\npersonalized offer to these individual customer or subscriber. Hence, if we are given rider ID\\nfor each row, we would have a better stance.\\n\\nBack to data, as we can see from the data, most of the people who rent the bikes are commuters\\nwho commute to work, and without any doubt our target customer group should be ones who live in\\nthe city and live near to work. Then from the trip duration table above, we see that 90% of the\\nrides within 15 minutes, so presenting offers on longer ride time will not attract new customers\\nto use bikes. \\n\\nFor the second table, we see that out of all commute trips from subscribers, trips \\nwhich contain basic characteristics of a commute trip, most of the trips occur during weekdays,\\nespecially in the middle of weekdays. With this, we can create a new bike plan just for commuters.\\nThis plan charges lower monthly rate for customers, but different from the current monthly plan \\nfree bike rental can only be used during weekdays.\\n\\nFor the third table, we see that different from trips from subscibers, trips from one time customers\\nmostly concentrated on weekeends, showing that one time customers usually use this for leisure. \\nFurthermore, we can see that these weekend trips last much longer than commute trips, with \\nan average of 50 minutes of rides. Although the number of trips from one time customers consists\\nonly 10% of all the trips, we should still create new offer for this group. Since most these weekend\\nbike rides are approximately 50 minutes, we can provide a one hour rental discount offer which customers\\ncan purchase. With this offer, more one time customers are likely to rent the bike to have a short\\ntour ride around San Francisco and the Bay Area.\\n\\nIn conclusion, I suggest removing Bike Share for All, as most subscribers do not enjoy\\nthe benefits from this program. In terms of new offer, for subscribers I recommend to come\\nup with a monthly weekday membership plan, attracting more commuters to use bikes to commute.\\nFor one time customers, I suggest a one hour rental discount offer, which as a result\\nwould attract customers to use bikes to tour rather than to walk.\\n\""
      ]
     },
     "execution_count": 24,
     "metadata": {},
     "output_type": "execute_result"
    }
   ],
   "source": [
    "''' RECOMMENDATION AND CONCLUSION\n",
    "The dataset is valuable, as it records almost one million of bike trips over three years,\n",
    "providing us patterns on how customers and subscribers use the bikes and eventually allowing\n",
    "us to find the right offer which benefits both the customers and the company. However, we\n",
    "see that the data lacks one really essential column: rider ID. Without this column, we are\n",
    "not able to track an individual's daily pattern，and as a result we are not able to provide\n",
    "personalized offer to these individual customer or subscriber. Hence, if we are given rider ID\n",
    "for each row, we would have a better stance.\n",
    "\n",
    "Back to data, as we can see from the data, most of the people who rent the bikes are commuters\n",
    "who commute to work, and without any doubt our target customer group should be ones who live in\n",
    "the city and live near to work. Then from the trip duration table above, we see that 90% of the\n",
    "rides within 15 minutes, so presenting offers on longer ride time will not attract new customers\n",
    "to use bikes. \n",
    "\n",
    "For the second table, we see that out of all commute trips from subscribers, trips \n",
    "which contain basic characteristics of a commute trip, most of the trips occur during weekdays,\n",
    "especially in the middle of weekdays. With this, we can create a new bike plan just for commuters.\n",
    "This plan charges lower monthly rate for customers, but different from the current monthly plan \n",
    "free bike rental can only be used during weekdays.\n",
    "\n",
    "For the third table, we see that different from trips from subscibers, trips from one time customers\n",
    "mostly concentrated on weekeends, showing that one time customers usually use this for leisure. \n",
    "Furthermore, we can see that these weekend trips last much longer than commute trips, with \n",
    "an average of 50 minutes of rides. Although the number of trips from one time customers consists\n",
    "only 10% of all the trips, we should still create new offer for this group. Since most these weekend\n",
    "bike rides are approximately 50 minutes, we can provide a one hour rental discount offer which customers\n",
    "can purchase. With this offer, more one time customers are likely to rent the bike to have a short\n",
    "tour ride around San Francisco and the Bay Area.\n",
    "\n",
    "In conclusion, I suggest removing Bike Share for All, as most subscribers do not enjoy\n",
    "the benefits from this program. In terms of new offer, for subscribers I recommend to come\n",
    "up with a monthly weekday membership plan, attracting more commuters to use bikes to commute.\n",
    "For one time customers, I suggest a one hour rental discount offer, which as a result\n",
    "would attract customers to use bikes to tour rather than to walk.\n",
    "'''"
   ]
  }
 ],
 "metadata": {
  "environment": {
   "name": "common-cpu.m68",
   "type": "gcloud",
   "uri": "gcr.io/deeplearning-platform-release/base-cpu:m68"
  },
  "kernelspec": {
   "display_name": "Python 3",
   "language": "python",
   "name": "python3"
  },
  "language_info": {
   "codemirror_mode": {
    "name": "ipython",
    "version": 3
   },
   "file_extension": ".py",
   "mimetype": "text/x-python",
   "name": "python",
   "nbconvert_exporter": "python",
   "pygments_lexer": "ipython3",
   "version": "3.7.10"
  }
 },
 "nbformat": 4,
 "nbformat_minor": 5
}
